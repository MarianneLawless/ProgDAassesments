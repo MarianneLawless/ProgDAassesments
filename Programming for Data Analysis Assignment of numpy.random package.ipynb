{
 "cells": [
  {
   "cell_type": "markdown",
   "metadata": {},
   "source": [
    "# An Investigation of the numpy.random package in Python"
   ]
  },
  {
   "cell_type": "markdown",
   "metadata": {},
   "source": [
    "## Numpy\n",
    "NumPy, short for Numerical Python, is one of the most important fundamental packages for numerical computing in Python. Most computational packages providing scientific functionality use NumpPy’s array objects for data exchange.\n",
    "\n",
    "### Here are some of the things you will find in NumPy:\n",
    "\n",
    "1.\tNdarray, an efficient multidimensional array providing fast array-orientated arithmetic        operations and flexible broadcasting capabilities.\n",
    "2.\tMathematical functions for fast operations and entire arrays of data without having to write loops. \n",
    "3.\tTools for reading /writing array data to disk and working with memory -mapped files.\n",
    "4.\tLinear algebra, random number generation, and Fourier transform capabilities.\n",
    "5.\tA C API for connecting NumPy with libraries written in C, C++, or FORTRAN.\n",
    "\n",
    "Because NumPy provides an easy-to-use C API, it is straightforward to pass data to external libraries written in low-level language and also for external libraries to return data to Python as NumPy arrays. This feature has made Python a language of choice for wrapping legacy C/C++/Fortran codebases and giving them a dynamic and easy-to-use interface.\n",
    "One of the reasons NumPy is so important for numerical computations in Python is because it is designed for efficiency on large arrays of data. \n",
    "\n",
    "NumPy works with Python objects called multi-dimensional arrays. Arrays are basically collections of values, and they have one or more dimensions. NumPy array data structure is also called ndarray, short for n-dimensional array. An array with one dimension is called a vector and an array with two dimensions is called a matrix. Datasets are usually built as matrices and it is much easier to open those with NumPy instead of working with list of lists, for example.\n",
    "\n",
    "### There are a number of reasons for this, as follows:\n",
    "1.\tNumPy internally stores data in a contiguous block of memory, independent of other built-in Pyhton objects. NumPy’s library of algorithms written in the C language can operate on this memory without any type checking or other overhead. NumPy arrays can also use much less memory than built-in Python sequences.\n",
    "2.\tNumPy operations perform complex computations on entire arrays without the need for loops.\n"
   ]
  },
  {
   "cell_type": "code",
   "execution_count": 1,
   "metadata": {},
   "outputs": [],
   "source": [
    "# Consider a NumPy array of one million integers, and the equivqlent Python list\n",
    "import numpy as np"
   ]
  },
  {
   "cell_type": "code",
   "execution_count": 3,
   "metadata": {},
   "outputs": [],
   "source": [
    "my_arr = np.arange(1000000)"
   ]
  },
  {
   "cell_type": "code",
   "execution_count": 4,
   "metadata": {},
   "outputs": [],
   "source": [
    "my_list = list(range(1000000))"
   ]
  },
  {
   "cell_type": "code",
   "execution_count": 5,
   "metadata": {},
   "outputs": [
    {
     "name": "stdout",
     "output_type": "stream",
     "text": [
      "Wall time: 100 ms\n"
     ]
    }
   ],
   "source": [
    "# Now let's multiply each sequence by 2:\n",
    "%time for _ in range(10): my_arr2 = my_arr * 2"
   ]
  },
  {
   "cell_type": "code",
   "execution_count": 9,
   "metadata": {},
   "outputs": [
    {
     "name": "stdout",
     "output_type": "stream",
     "text": [
      "Wall time: 2.66 s\n"
     ]
    }
   ],
   "source": [
    "%time for _ in range(10): my_list2 = [x * 2 for x in my_list]"
   ]
  },
  {
   "cell_type": "markdown",
   "metadata": {},
   "source": [
    "### NumPy-based algorithms are generally 10 to 100 times faster , or more, as above, than their pure Python counterparts and use significantly less memory space. "
   ]
  },
  {
   "cell_type": "markdown",
   "metadata": {},
   "source": [
    "### numpy.random \n",
    "\n",
    "The numpy.random sub-package is used to generate random numbers and allows random sampling to take place.\n",
    "\n",
    "Real random numbers are difficult to produce, so in practice, we use pseudo-random numbers. Pseudo-random numbers are sufficiently random for most intents and purposes, except for some very exceptional instances, such as very accurate simulations. The random-numbers-associated routines can be located in the NumPy random subpackage.\n",
    "\n",
    "The numpy.random module supplements the built-in Python random with functions for efficiently generating whole arrays of same values from many kinds of probability distributions. for example you can get a 4 x 4 array of samples from the standard normal distribution using *normal\n",
    "\n",
    "Another cool feature is the ability to create different arrays like random arrays: np.random.rand(3,4) will create a 3x4 array of random numbers between 0 and 1 while np.random.rand(7,6)*100 will create a 7x6 array of random numbers between 0 to 100; you can also define the size of the array in a different way: np.random.randint(10,size=(3,2)) creates an array the size of 3x2 with random numbers between 0 and 9. Remember that the last digit (10) is not included in the range when you use this syntax.\n",
    "It’s also possible to create an array of all zeros: np.zeros(4,3) (4x3 array of all zeros) or ones np.ones((4)) (4x1 array of ones); you can the command np.full((3,2),8) to create a 3x2 array full of 8. You can, of course, change each and every one of these numbers to get the array you want.\n"
   ]
  },
  {
   "cell_type": "code",
   "execution_count": 6,
   "metadata": {},
   "outputs": [],
   "source": [
    "import numpy as np\n",
    "samp = np.random.normal(size=(3,3))\n"
   ]
  },
  {
   "cell_type": "code",
   "execution_count": 7,
   "metadata": {},
   "outputs": [
    {
     "data": {
      "text/plain": [
       "array([[ 0.05038804, -0.7314969 ,  0.2654911 ],\n",
       "       [ 1.21549817, -0.95655902, -1.40742094],\n",
       "       [-0.46971657,  0.48111324,  0.18582194]])"
      ]
     },
     "execution_count": 7,
     "metadata": {},
     "output_type": "execute_result"
    }
   ],
   "source": [
    "samp"
   ]
  },
  {
   "cell_type": "markdown",
   "metadata": {},
   "source": [
    "### Simple random data"
   ]
  },
  {
   "cell_type": "code",
   "execution_count": 8,
   "metadata": {},
   "outputs": [
    {
     "data": {
      "text/plain": [
       "array([[0.75848239, 0.05975689],\n",
       "       [0.77378972, 0.71286411],\n",
       "       [0.80898156, 0.25356927]])"
      ]
     },
     "execution_count": 8,
     "metadata": {},
     "output_type": "execute_result"
    }
   ],
   "source": [
    "# numpy.random.rand\n",
    "# Random values in a given shape.\n",
    "# Create an array of the given shape and populate it with random samples from a uniform distribution over [0, 1).\n",
    "np.random.rand(3,2)"
   ]
  },
  {
   "cell_type": "code",
   "execution_count": 9,
   "metadata": {},
   "outputs": [
    {
     "data": {
      "text/plain": [
       "array([-0.36927144,  0.340748  ,  1.02273831,  0.21840785, -0.62872609,\n",
       "        0.28202201,  0.19097352])"
      ]
     },
     "execution_count": 9,
     "metadata": {},
     "output_type": "execute_result"
    }
   ],
   "source": [
    "# numpy.random.randn\n",
    "# Using randn(), we can generate random samples from Standard, normal or Gaussian distribution centered around 0. For example, let’s generate 7 random numbers:\n",
    "my_randn = np.random.randn(7)\n",
    "my_randn\n"
   ]
  },
  {
   "cell_type": "code",
   "execution_count": 10,
   "metadata": {},
   "outputs": [
    {
     "data": {
      "text/plain": [
       "array([[-2.27842727, -0.48681505,  0.93658526,  1.82912755,  0.62543294],\n",
       "       [-0.20322857, -0.00941695,  0.30743574, -0.85402399, -0.17526863],\n",
       "       [-1.05828489,  0.85301207, -0.32024876, -0.87470377,  0.43343844]])"
      ]
     },
     "execution_count": 10,
     "metadata": {},
     "output_type": "execute_result"
    }
   ],
   "source": [
    "# When you plot the result will give us a normal distribution curve.\n",
    "\n",
    "# Similarly, to generate a two-dimensional array of 3 rows and 5 columns, do this:\n",
    "np.random.randn(3,5)\n",
    "    \n",
    "    "
   ]
  },
  {
   "cell_type": "code",
   "execution_count": 15,
   "metadata": {},
   "outputs": [
    {
     "data": {
      "text/plain": [
       "3"
      ]
     },
     "execution_count": 15,
     "metadata": {},
     "output_type": "execute_result"
    }
   ],
   "source": [
    "# Lastly, we can use the randint() function to generate an array of integers. The randint() function can take up to 3 arguments; the low(inclusive), high(exclusive) and size of the array.\n",
    "np.random.randint(20) #generates a random integer exclusive of 20\n"
   ]
  },
  {
   "cell_type": "code",
   "execution_count": 12,
   "metadata": {},
   "outputs": [
    {
     "data": {
      "text/plain": [
       "17"
      ]
     },
     "execution_count": 12,
     "metadata": {},
     "output_type": "execute_result"
    }
   ],
   "source": [
    "np.random.randint(2, 20) #generates a random integer including 2 but excluding 20"
   ]
  },
  {
   "cell_type": "code",
   "execution_count": 13,
   "metadata": {},
   "outputs": [
    {
     "data": {
      "text/plain": [
       "array([16, 18, 18, 16, 10, 11,  2])"
      ]
     },
     "execution_count": 13,
     "metadata": {},
     "output_type": "execute_result"
    }
   ],
   "source": [
    "np.random.randint(2, 20, 7) #generates 7 random integers including 2 but excluding 20"
   ]
  },
  {
   "cell_type": "code",
   "execution_count": 22,
   "metadata": {},
   "outputs": [
    {
     "data": {
      "text/plain": [
       "array([0.95948327, 0.23946691, 0.54729454, 0.28909015, 0.74728671,\n",
       "       0.25670148, 0.88353808, 0.4271074 , 0.74066045, 0.43580013,\n",
       "       0.2708154 , 0.44941082, 0.64540871, 0.52167736, 0.46034238,\n",
       "       0.33960401, 0.05507762, 0.39845832, 0.87339203, 0.95972757,\n",
       "       0.74445146, 0.54030429, 0.0013303 , 0.07126352, 0.8526706 ])"
      ]
     },
     "execution_count": 22,
     "metadata": {},
     "output_type": "execute_result"
    }
   ],
   "source": [
    "arr = np.random.rand(25)# First, we generate a 1-d array of random 25 integers\n",
    "arr"
   ]
  },
  {
   "cell_type": "code",
   "execution_count": 23,
   "metadata": {},
   "outputs": [
    {
     "data": {
      "text/plain": [
       "array([[0.95948327, 0.23946691, 0.54729454, 0.28909015, 0.74728671],\n",
       "       [0.25670148, 0.88353808, 0.4271074 , 0.74066045, 0.43580013],\n",
       "       [0.2708154 , 0.44941082, 0.64540871, 0.52167736, 0.46034238],\n",
       "       [0.33960401, 0.05507762, 0.39845832, 0.87339203, 0.95972757],\n",
       "       [0.74445146, 0.54030429, 0.0013303 , 0.07126352, 0.8526706 ]])"
      ]
     },
     "execution_count": 23,
     "metadata": {},
     "output_type": "execute_result"
    }
   ],
   "source": [
    "arr.reshape(5,5)# Then convert it to a 2-d array using the reshape() function\n",
    "# The reshape() can only convert to equal number or rows and columns and must together be equal to equal to the number of elements. In the example above, arr contained 25 elements hence can only be reshaped to a 5X5 matrix."
   ]
  },
  {
   "cell_type": "code",
   "execution_count": null,
   "metadata": {},
   "outputs": [],
   "source": []
  }
 ],
 "metadata": {
  "kernelspec": {
   "display_name": "Python 3",
   "language": "python",
   "name": "python3"
  },
  "language_info": {
   "codemirror_mode": {
    "name": "ipython",
    "version": 3
   },
   "file_extension": ".py",
   "mimetype": "text/x-python",
   "name": "python",
   "nbconvert_exporter": "python",
   "pygments_lexer": "ipython3",
   "version": "3.6.5"
  }
 },
 "nbformat": 4,
 "nbformat_minor": 2
}
